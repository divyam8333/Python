{
 "cells": [
  {
   "cell_type": "markdown",
   "metadata": {},
   "source": [
    "# What is Numpy?\n",
    "Numpy stands for Numerical python which is a python package for the computation and processing of the multi-dimensional and single-dimensional array elements."
   ]
  },
  {
   "cell_type": "code",
   "execution_count": 29,
   "metadata": {},
   "outputs": [],
   "source": [
    "# import numpy library\n",
    "import numpy as np"
   ]
  },
  {
   "cell_type": "code",
   "execution_count": 30,
   "metadata": {},
   "outputs": [
    {
     "name": "stdout",
     "output_type": "stream",
     "text": [
      "[1.4 3.4 4.8]\n",
      "No.of dimensions are 1\n",
      "Array Size: 3\n",
      "Elements size: 8\n",
      "--------------------------------\n",
      "\n"
     ]
    }
   ],
   "source": [
    "# 1d array\n",
    "arr1=np.array([1.4,3.4,4.8])\n",
    "print(arr1)\n",
    "print(\"No.of dimensions are\",arr1.ndim)\n",
    "print(\"Array Size:\",arr1.size)\n",
    "print(\"Elements size:\",arr1.itemsize)\n",
    "print(\"--------------------------------\\n\")"
   ]
  },
  {
   "cell_type": "code",
   "execution_count": 31,
   "metadata": {},
   "outputs": [
    {
     "data": {
      "text/plain": [
       "'Enter array values through user.\\nl=[]\\nn1=int(input(\"Enter Array Size:\"))\\nprint(\"Enter\",n1,\"Numbers:\")\\nfor i in range(n1):\\n    n2=int(input())\\n    l.append(n2)\\n\\narr=np.array(l)\\nprint(\"Array is:\",arr)'"
      ]
     },
     "execution_count": 31,
     "metadata": {},
     "output_type": "execute_result"
    }
   ],
   "source": [
    "'''Enter array values through user.\n",
    "l=[]\n",
    "n1=int(input(\"Enter Array Size:\"))\n",
    "print(\"Enter\",n1,\"Numbers:\")\n",
    "for i in range(n1):\n",
    "    n2=int(input())\n",
    "    l.append(n2)\n",
    "\n",
    "arr=np.array(l)\n",
    "print(\"Array is:\",arr)'''"
   ]
  },
  {
   "cell_type": "markdown",
   "metadata": {},
   "source": [
    "# 2d array \n",
    "           It also called matrix."
   ]
  },
  {
   "cell_type": "code",
   "execution_count": 32,
   "metadata": {},
   "outputs": [
    {
     "name": "stdout",
     "output_type": "stream",
     "text": [
      "[[ 1  2  3  4]\n",
      " [ 5  6  7  8]\n",
      " [ 9 10 11 12]]\n",
      "No.of dimensions are 2\n",
      "Array Size: 12\n",
      "Elements size: 8\n",
      "--------------------------------\n",
      "\n"
     ]
    }
   ],
   "source": [
    "# 1st way\n",
    "arr2=np.array([[1,2,3,4],[5,6,7,8],[9,10,11,12]])\n",
    "print(arr2)\n",
    "print(\"No.of dimensions are\",arr2.ndim)\n",
    "print(\"Array Size:\",arr2.size)\n",
    "print(\"Elements size:\",arr1.itemsize)\n",
    "print(\"--------------------------------\\n\")"
   ]
  },
  {
   "cell_type": "code",
   "execution_count": 33,
   "metadata": {},
   "outputs": [
    {
     "name": "stdout",
     "output_type": "stream",
     "text": [
      "[[ 0  1  2  3]\n",
      " [ 4  5  6  7]\n",
      " [ 8  9 10 11]\n",
      " [12 13 14 15]]\n",
      "No.of dimensions are 2\n",
      "Array Size: 16\n",
      "Elements size: 4\n",
      "Array size(row*column): (4, 4)\n",
      "-----------------------------------\n"
     ]
    }
   ],
   "source": [
    "# 2nd way -using arange(start,stop,step)\n",
    "arr2=np.arange(16).reshape(4,4)                           #2d array-  reshape(row,column)\n",
    "print(arr2) \n",
    "print(\"No.of dimensions are\",arr2.ndim)\n",
    "print(\"Array Size:\",arr2.size)\n",
    "print(\"Elements size:\",arr2.itemsize)\n",
    "print(\"Array size(row*column):\",arr2.shape)\n",
    "print(\"-----------------------------------\")\n"
   ]
  },
  {
   "cell_type": "code",
   "execution_count": 34,
   "metadata": {},
   "outputs": [
    {
     "name": "stdout",
     "output_type": "stream",
     "text": [
      "First Array:\n",
      " [[1 2 3]\n",
      " [4 5 6]]\n",
      "\n",
      "Append Elements to array:\n",
      "[1 2 3 4 5 6 7 8 9]\n"
     ]
    }
   ],
   "source": [
    "# append elements inside an array using append()\n",
    "arr=np.array([[1,2,3],[4,5,6]])\n",
    "print(\"First Array:\\n\",arr)\n",
    "\n",
    "print(\"\\nAppend Elements to array:\")\n",
    "print(np.append(arr,[7,8,9]))"
   ]
  },
  {
   "cell_type": "markdown",
   "metadata": {},
   "source": [
    "# 3d array"
   ]
  },
  {
   "cell_type": "code",
   "execution_count": 35,
   "metadata": {},
   "outputs": [
    {
     "name": "stdout",
     "output_type": "stream",
     "text": [
      "[[[ 1  2  3]\n",
      "  [ 4  5  6]\n",
      "  [ 7  8  9]\n",
      "  [10 11 12]]]\n",
      "No.of dimensions are 3\n",
      "Array Size: 12\n",
      "Array size(no. of matrix, row , column): (1, 4, 3)\n",
      "-------------------------------------\n"
     ]
    }
   ],
   "source": [
    "# 1st way\n",
    "arr3=np.array([[[1,2,3],[4,5,6],[7,8,9],[10,11,12]]])  \n",
    "print(arr3)\n",
    "print(\"No.of dimensions are\",arr3.ndim)\n",
    "print(\"Array Size:\",arr3.size)\n",
    "print(\"Array size(no. of matrix, row , column):\",arr3.shape)\n",
    "print(\"-------------------------------------\")\n"
   ]
  },
  {
   "cell_type": "code",
   "execution_count": 36,
   "metadata": {},
   "outputs": [
    {
     "name": "stdout",
     "output_type": "stream",
     "text": [
      "[[[ 0  1  2]\n",
      "  [ 3  4  5]\n",
      "  [ 6  7  8]]\n",
      "\n",
      " [[ 9 10 11]\n",
      "  [12 13 14]\n",
      "  [15 16 17]]\n",
      "\n",
      " [[18 19 20]\n",
      "  [21 22 23]\n",
      "  [24 25 26]]]\n",
      "No.of dimensions are 3\n",
      "Array Size: 27\n",
      "Array size(no. of matrix, row , column): (3, 3, 3)\n",
      "-------------------------------------\n"
     ]
    }
   ],
   "source": [
    "# 2nd way -using arange(start,stop,step)\n",
    "arr3=np.arange(27).reshape(3,3,3)                           #3d array-  reshape(no. of matrix, row , column)             \n",
    "print(arr3)\n",
    "print(\"No.of dimensions are\",arr3.ndim)\n",
    "print(\"Array Size:\",arr3.size)\n",
    "print(\"Array size(no. of matrix, row , column):\",arr3.shape)\n",
    "print(\"-------------------------------------\")\n"
   ]
  },
  {
   "cell_type": "markdown",
   "metadata": {},
   "source": [
    "# Zeros() & Ones()"
   ]
  },
  {
   "cell_type": "code",
   "execution_count": 37,
   "metadata": {},
   "outputs": [
    {
     "name": "stdout",
     "output_type": "stream",
     "text": [
      "[[0. 0. 0. 0.]\n",
      " [0. 0. 0. 0.]\n",
      " [0. 0. 0. 0.]]\n",
      "No.of dimensions are 2\n",
      "Array Size: 12\n",
      "-------------------------------------\n"
     ]
    }
   ],
   "source": [
    "# Intialize array with 0's[ zeros((row,column)) ] and 1's[ ones(row,column)) ]\n",
    "arr= np.zeros((3,4))\n",
    "print(arr)\n",
    "print(\"No.of dimensions are\",arr.ndim)\n",
    "print(\"Array Size:\",arr.size)\n",
    "print(\"-------------------------------------\")"
   ]
  },
  {
   "cell_type": "code",
   "execution_count": 38,
   "metadata": {},
   "outputs": [
    {
     "name": "stdout",
     "output_type": "stream",
     "text": [
      "[[[1. 1. 1.]\n",
      "  [1. 1. 1.]\n",
      "  [1. 1. 1.]\n",
      "  [1. 1. 1.]]\n",
      "\n",
      " [[1. 1. 1.]\n",
      "  [1. 1. 1.]\n",
      "  [1. 1. 1.]\n",
      "  [1. 1. 1.]]\n",
      "\n",
      " [[1. 1. 1.]\n",
      "  [1. 1. 1.]\n",
      "  [1. 1. 1.]\n",
      "  [1. 1. 1.]]]\n",
      "No.of dimensions are 3\n",
      "Array Size: 36\n",
      "-------------------------------------\n"
     ]
    }
   ],
   "source": [
    "arr= np.ones((3,4,3))                        # array size = no. of matrix*row*column\n",
    "print(arr)\n",
    "print(\"No.of dimensions are\",arr.ndim)\n",
    "print(\"Array Size:\",arr.size)\n",
    "print(\"-------------------------------------\")"
   ]
  },
  {
   "cell_type": "markdown",
   "metadata": {},
   "source": [
    "# Arithmetic o/p on 2d-array"
   ]
  },
  {
   "cell_type": "code",
   "execution_count": 39,
   "metadata": {},
   "outputs": [
    {
     "name": "stdout",
     "output_type": "stream",
     "text": [
      "[[12 13 14 15]\n",
      " [16 17 18 19]\n",
      " [20 21 22 23]]\n",
      "-------------------------------------\n",
      "[[24 25 26 27]\n",
      " [28 29 30 31]\n",
      " [32 33 34 35]]\n",
      "-------------------------------------\n",
      "arr2/arr1:\n",
      " [[2.         1.92307692 1.85714286 1.8       ]\n",
      " [1.75       1.70588235 1.66666667 1.63157895]\n",
      " [1.6        1.57142857 1.54545455 1.52173913]]\n",
      "arr2*arr1:\n",
      " [[288 325 364 405]\n",
      " [448 493 540 589]\n",
      " [640 693 748 805]]\n",
      "arr2+arr1:\n",
      " [[36 38 40 42]\n",
      " [44 46 48 50]\n",
      " [52 54 56 58]]\n",
      "arr2-arr1:\n",
      " [[12 12 12 12]\n",
      " [12 12 12 12]\n",
      " [12 12 12 12]]\n",
      "-------------------------------------\n"
     ]
    }
   ],
   "source": [
    "# note: both array row & column size must be same.\n",
    "arr1=np.arange(12,24).reshape(3,4)\n",
    "print(arr1)\n",
    "print(\"-------------------------------------\")\n",
    "\n",
    "arr2=np.arange(24,36).reshape(3,4)\n",
    "print(arr2)\n",
    "print(\"-------------------------------------\")\n",
    "\n",
    "print(\"arr2/arr1:\\n\",arr2/arr1)\n",
    "print(\"arr2*arr1:\\n\",arr2*arr1)\n",
    "print(\"arr2+arr1:\\n\",arr2+arr1)\n",
    "print(\"arr2-arr1:\\n\",arr2-arr1)\n",
    "print(\"-------------------------------------\")"
   ]
  },
  {
   "cell_type": "markdown",
   "metadata": {},
   "source": [
    "# Relational o/p on 2d-array"
   ]
  },
  {
   "cell_type": "code",
   "execution_count": 40,
   "metadata": {},
   "outputs": [
    {
     "name": "stdout",
     "output_type": "stream",
     "text": [
      "[[ 0  1  2  3]\n",
      " [ 4  5  6  7]\n",
      " [ 8  9 10 11]]\n",
      "-------------------------------------\n",
      "[[12 13 14 15]\n",
      " [16 17 18 19]\n",
      " [20 21 22 23]]\n",
      "-------------------------------------\n",
      "arr2>arr1:\n",
      " [[ True  True  True  True]\n",
      " [ True  True  True  True]\n",
      " [ True  True  True  True]]\n",
      "arr2<arr1:\n",
      " [[False False False False]\n",
      " [False False False False]\n",
      " [False False False False]]\n",
      "arr2==arr1:\n",
      " [[False False False False]\n",
      " [False False False False]\n",
      " [False False False False]]\n",
      "-------------------------------------\n"
     ]
    }
   ],
   "source": [
    "#note: both array row & column size must be same. - returns boolean value.\n",
    "arr1=np.arange(12).reshape(3,4)\n",
    "print(arr1)\n",
    "print(\"-------------------------------------\")\n",
    "\n",
    "arr2=np.arange(12,24).reshape(3,4)\n",
    "print(arr2)\n",
    "print(\"-------------------------------------\")\n",
    "\n",
    "print(\"arr2>arr1:\\n\",arr2>arr1)\n",
    "print(\"arr2<arr1:\\n\",arr2<arr1)\n",
    "print(\"arr2==arr1:\\n\",arr2==arr1)\n",
    "print(\"-------------------------------------\")"
   ]
  },
  {
   "cell_type": "markdown",
   "metadata": {},
   "source": [
    "# Max, Min, Sum, Product(prod)"
   ]
  },
  {
   "cell_type": "code",
   "execution_count": 41,
   "metadata": {},
   "outputs": [
    {
     "name": "stdout",
     "output_type": "stream",
     "text": [
      "[[12 13 14 15]\n",
      " [16 17 18 19]\n",
      " [20 21 22 23]]\n",
      "-------------------------------------\n",
      "Largest element is 23\n",
      "Smallest element is 12\n",
      "Sum of all array element is 210\n",
      "Product of arr1 & arr2 is 816826368\n",
      "-------------------------------------\n",
      "\n"
     ]
    }
   ],
   "source": [
    "arr=np.arange(12,24).reshape(3,4)\n",
    "print(arr)\n",
    "print(\"-------------------------------------\")\n",
    "\n",
    "print(\"Largest element is\",np.max(arr))\n",
    "print(\"Smallest element is\",np.min(arr))\n",
    "print(\"Sum of all array element is\",np.sum(arr))\n",
    "print(\"Product of arr1 & arr2 is\",np.prod(arr))\n",
    "print(\"-------------------------------------\\n\")"
   ]
  },
  {
   "cell_type": "markdown",
   "metadata": {},
   "source": [
    "# Mean, Median, Standard deviation, Variance"
   ]
  },
  {
   "cell_type": "code",
   "execution_count": 42,
   "metadata": {},
   "outputs": [
    {
     "name": "stdout",
     "output_type": "stream",
     "text": [
      "[[12 13 14 15]\n",
      " [16 17 18 19]\n",
      " [20 21 22 23]]\n",
      "-------------------------------------\n",
      "Mean is 17.5\n",
      "Median  is 17.5\n",
      "Standard Deviation is 3.452052529534663\n",
      "Variance is 11.916666666666666\n",
      "-------------------------------------\n"
     ]
    }
   ],
   "source": [
    "arr=np.arange(12,24).reshape(3,4)\n",
    "print(arr)\n",
    "print(\"-------------------------------------\")\n",
    "\n",
    "print(\"Mean is\",np.mean(arr))\n",
    "print(\"Median  is\",np.median(arr))\n",
    "print(\"Standard Deviation is\",np.std(arr))\n",
    "print(\"Variance is\",np.var(arr))\n",
    "print(\"-------------------------------------\")"
   ]
  },
  {
   "cell_type": "markdown",
   "metadata": {},
   "source": [
    "# Dot Product"
   ]
  },
  {
   "cell_type": "code",
   "execution_count": 43,
   "metadata": {},
   "outputs": [
    {
     "name": "stdout",
     "output_type": "stream",
     "text": [
      "[[ 0  1  2  3]\n",
      " [ 4  5  6  7]\n",
      " [ 8  9 10 11]]\n",
      "-------------------------------------\n",
      "[[12 13 14]\n",
      " [15 16 17]\n",
      " [18 19 20]\n",
      " [21 22 23]]\n",
      "-------------------------------------\n",
      "Dot product is:\n",
      " [[114 120 126]\n",
      " [378 400 422]\n",
      " [642 680 718]]\n"
     ]
    }
   ],
   "source": [
    "# Dot Product only possible when 1st matrix row value and 2nd matrix column value is SAME.  \n",
    "arr1=np.arange(12).reshape(3,4)\n",
    "print(arr1)\n",
    "print(\"-------------------------------------\")\n",
    "\n",
    "arr2=np.arange(12,24).reshape(4,3)\n",
    "print(arr2)\n",
    "print(\"-------------------------------------\")\n",
    "\n",
    "print(\"Dot product is:\\n\",np.dot(arr1,arr2))\n"
   ]
  },
  {
   "cell_type": "markdown",
   "metadata": {},
   "source": [
    "# Log and Exponent"
   ]
  },
  {
   "cell_type": "code",
   "execution_count": 44,
   "metadata": {},
   "outputs": [
    {
     "name": "stdout",
     "output_type": "stream",
     "text": [
      "[[12 13 14 15]\n",
      " [16 17 18 19]\n",
      " [20 21 22 23]]\n",
      "[[2.48490665 2.56494936 2.63905733 2.7080502 ]\n",
      " [2.77258872 2.83321334 2.89037176 2.94443898]\n",
      " [2.99573227 3.04452244 3.09104245 3.13549422]]\n",
      "[[1.62754791e+05 4.42413392e+05 1.20260428e+06 3.26901737e+06]\n",
      " [8.88611052e+06 2.41549528e+07 6.56599691e+07 1.78482301e+08]\n",
      " [4.85165195e+08 1.31881573e+09 3.58491285e+09 9.74480345e+09]]\n",
      "-------------------------------------\n"
     ]
    }
   ],
   "source": [
    "arr1=np.arange(12,24).reshape(3,4)\n",
    "print(arr1)\n",
    "print(np.log(arr1))\n",
    "print(np.exp(arr1))\n",
    "print(\"-------------------------------------\")"
   ]
  },
  {
   "cell_type": "markdown",
   "metadata": {},
   "source": [
    "# Round, Floor, Ceil"
   ]
  },
  {
   "cell_type": "code",
   "execution_count": 45,
   "metadata": {},
   "outputs": [
    {
     "name": "stdout",
     "output_type": "stream",
     "text": [
      "[[1.5 5.3 7.3]\n",
      " [2.4 7.4 8.2]\n",
      " [6.2 8.1 3.6]]\n",
      "Removing Decimal Values- [[2. 5. 7.]\n",
      " [2. 7. 8.]\n",
      " [6. 8. 4.]]\n",
      "Before Decimal value [[1. 5. 7.]\n",
      " [2. 7. 8.]\n",
      " [6. 8. 3.]]\n",
      "Decimal value + 1 [[2. 6. 8.]\n",
      " [3. 8. 9.]\n",
      " [7. 9. 4.]]\n",
      "-------------------------------------\n"
     ]
    }
   ],
   "source": [
    "arr=np.array([[1.5,5.3,7.3],[2.4,7.4,8.2],[6.2,8.1,3.6]])\n",
    "print(arr)\n",
    "print(\"Removing Decimal Values-\",np.round(arr))\n",
    "print(\"Before Decimal value\",np.floor(arr))\n",
    "print(\"Decimal value + 1\",np.ceil(arr))\n",
    "print(\"-------------------------------------\")"
   ]
  },
  {
   "cell_type": "markdown",
   "metadata": {},
   "source": [
    "# Indexing"
   ]
  },
  {
   "cell_type": "code",
   "execution_count": 46,
   "metadata": {},
   "outputs": [
    {
     "name": "stdout",
     "output_type": "stream",
     "text": [
      "[[ 0  1  2  3]\n",
      " [ 4  5  6  7]\n",
      " [ 8  9 10 11]]\n",
      "5\n",
      "11\n",
      "-------------------------------------\n",
      "[[[ 0  1  2]\n",
      "  [ 3  4  5]\n",
      "  [ 6  7  8]\n",
      "  [ 9 10 11]]\n",
      "\n",
      " [[12 13 14]\n",
      "  [15 16 17]\n",
      "  [18 19 20]\n",
      "  [21 22 23]]\n",
      "\n",
      " [[24 25 26]\n",
      "  [27 28 29]\n",
      "  [30 31 32]\n",
      "  [33 34 35]]]\n",
      "19\n",
      "11\n",
      "-------------------------------------\n"
     ]
    }
   ],
   "source": [
    "arr1=np.arange(12).reshape(3,4)\n",
    "print(arr1)\n",
    "print(arr1[1,1])\n",
    "print(arr1[2,3])\n",
    "print(\"-------------------------------------\")\n",
    "\n",
    "arr2=np.arange(36).reshape(3,4,3)       # reshape(no. of matrix, row, column)\n",
    "print(arr2)\n",
    "print(arr2[1,2,1])\n",
    "print(arr2[0,3,2])\n",
    "print(\"-------------------------------------\")"
   ]
  },
  {
   "cell_type": "markdown",
   "metadata": {},
   "source": [
    "# Slicing in numpy array\n",
    "\n",
    "                           \n",
    "syntax: 2d array:\n",
    "                    ----Row-------,---Column-----\n",
    "         array_name[start:end:step,start:end:step]\n",
    "\n",
    "        3d array:\n",
    "         \n",
    "                   no. of matrix--,-----Row------,---Column-----\n",
    "         array_name[no. of matrix,start:end:step,start:end:step]\n",
    "\n",
    "\n",
    "start - index of the first element included (by default starts with 0)\n",
    "stop - index of the last element excluded\n",
    "step - step size between each element (by default incremented by 1)"
   ]
  },
  {
   "cell_type": "code",
   "execution_count": 47,
   "metadata": {},
   "outputs": [
    {
     "name": "stdout",
     "output_type": "stream",
     "text": [
      "[[ 0  1  2  3]\n",
      " [ 4  5  6  7]\n",
      " [ 8  9 10 11]\n",
      " [12 13 14 15]]\n",
      "[2 3]\n",
      "[4 5 6 7]\n",
      "[ 1  5  9 13]\n",
      "[[ 5  6]\n",
      " [ 9 10]]\n",
      "[[ 9 10]]\n",
      "[[ 4  5  6  7]\n",
      " [ 8  9 10 11]]\n",
      "[[ 1  2]\n",
      " [ 5  6]\n",
      " [ 9 10]\n",
      " [13 14]]\n",
      "[5 9]\n",
      "[[4]\n",
      " [8]]\n"
     ]
    }
   ],
   "source": [
    "# Slicing\n",
    "arr=np.arange(16).reshape(4,4)\n",
    "print(arr)\n",
    "# aim- 2 3\n",
    "print(arr[0,2:])\n",
    "print(arr[1,:])\n",
    "print(arr[:,1])\n",
    "print(arr[1:3,1:3])\n",
    "# aim- 9 10\n",
    "print(arr[2:3,1:3])\n",
    "print(arr[1:3,])\n",
    "print(arr[:,1:3])\n",
    "print(arr[1:3,1])\n",
    "print(arr[1:3,:1])"
   ]
  },
  {
   "cell_type": "markdown",
   "metadata": {},
   "source": [
    "# Iteration\n",
    "\n",
    " reshape syntax: \n",
    "                2d array:- reshape(row,column)\n",
    "                3d array:- reshape(matrix no,row,column)"
   ]
  },
  {
   "cell_type": "code",
   "execution_count": 48,
   "metadata": {},
   "outputs": [
    {
     "name": "stdout",
     "output_type": "stream",
     "text": [
      "[ 0  1  2  3  4  5  6  7  8  9 10 11]\n",
      "Printing 1d array elements through iteration:\n",
      "0\n",
      "1\n",
      "2\n",
      "3\n",
      "4\n",
      "5\n",
      "6\n",
      "7\n",
      "8\n",
      "9\n",
      "10\n",
      "11\n",
      "----------------------------\n"
     ]
    }
   ],
   "source": [
    "# 1D-array\n",
    "arr=np.arange(12)\n",
    "print(arr)\n",
    "print(\"Printing 1d array elements through iteration:\")\n",
    "for i in arr:\n",
    "    print(i)\n",
    "print(\"----------------------------\")"
   ]
  },
  {
   "cell_type": "code",
   "execution_count": 49,
   "metadata": {},
   "outputs": [
    {
     "name": "stdout",
     "output_type": "stream",
     "text": [
      "[[ 0  1  2]\n",
      " [ 3  4  5]\n",
      " [ 6  7  8]\n",
      " [ 9 10 11]]\n",
      "Printing 2d array elements through iteration:\n",
      "[0 1 2]\n",
      "[3 4 5]\n",
      "[6 7 8]\n",
      "[ 9 10 11]\n",
      "----------------------------\n"
     ]
    }
   ],
   "source": [
    "# 2D-array\n",
    "arr=np.arange(12).reshape(4,3)\n",
    "print(arr)\n",
    "print(\"Printing 2d array elements through iteration:\")\n",
    "for i in arr:\n",
    "    print(i)\n",
    "print(\"----------------------------\")"
   ]
  },
  {
   "cell_type": "code",
   "execution_count": 50,
   "metadata": {},
   "outputs": [
    {
     "name": "stdout",
     "output_type": "stream",
     "text": [
      "[[[ 0  1  2]\n",
      "  [ 3  4  5]\n",
      "  [ 6  7  8]]\n",
      "\n",
      " [[ 9 10 11]\n",
      "  [12 13 14]\n",
      "  [15 16 17]]\n",
      "\n",
      " [[18 19 20]\n",
      "  [21 22 23]\n",
      "  [24 25 26]]\n",
      "\n",
      " [[27 28 29]\n",
      "  [30 31 32]\n",
      "  [33 34 35]]]\n",
      "Printing 3d array elements through iteration:\n",
      "[[0 1 2]\n",
      " [3 4 5]\n",
      " [6 7 8]]\n",
      "[[ 9 10 11]\n",
      " [12 13 14]\n",
      " [15 16 17]]\n",
      "[[18 19 20]\n",
      " [21 22 23]\n",
      " [24 25 26]]\n",
      "[[27 28 29]\n",
      " [30 31 32]\n",
      " [33 34 35]]\n"
     ]
    }
   ],
   "source": [
    "# 3D-array\n",
    "arr=np.arange(36).reshape(4,3,3)\n",
    "print(arr)\n",
    "print(\"Printing 3d array elements through iteration:\")\n",
    "for i in arr:\n",
    "    print(i)"
   ]
  },
  {
   "cell_type": "code",
   "execution_count": 51,
   "metadata": {},
   "outputs": [
    {
     "name": "stdout",
     "output_type": "stream",
     "text": [
      "[[[ 0  1  2]\n",
      "  [ 3  4  5]\n",
      "  [ 6  7  8]]\n",
      "\n",
      " [[ 9 10 11]\n",
      "  [12 13 14]\n",
      "  [15 16 17]]\n",
      "\n",
      " [[18 19 20]\n",
      "  [21 22 23]\n",
      "  [24 25 26]]\n",
      "\n",
      " [[27 28 29]\n",
      "  [30 31 32]\n",
      "  [33 34 35]]]\n",
      "0\n",
      "1\n",
      "2\n",
      "3\n",
      "4\n",
      "5\n",
      "6\n",
      "7\n",
      "8\n",
      "9\n",
      "10\n",
      "11\n",
      "12\n",
      "13\n",
      "14\n",
      "15\n",
      "16\n",
      "17\n",
      "18\n",
      "19\n",
      "20\n",
      "21\n",
      "22\n",
      "23\n",
      "24\n",
      "25\n",
      "26\n",
      "27\n",
      "28\n",
      "29\n",
      "30\n",
      "31\n",
      "32\n",
      "33\n",
      "34\n",
      "35\n"
     ]
    }
   ],
   "source": [
    "# 3D-array\n",
    "arr=np.arange(36).reshape(4,3,3)\n",
    "print(arr)\n",
    "\n",
    "# Access every element of Multi-dimensional array using nditer(array_name) function. \n",
    "for i in np.nditer(arr):\n",
    "    print(i)"
   ]
  },
  {
   "cell_type": "markdown",
   "metadata": {},
   "source": [
    "#  Transpose and Ravel\n",
    "\n",
    "Transpose- convert row value into column value.\n",
    "Ravel-  convert multi-dimensional array into single-dimensional array."
   ]
  },
  {
   "cell_type": "code",
   "execution_count": 52,
   "metadata": {},
   "outputs": [
    {
     "name": "stdout",
     "output_type": "stream",
     "text": [
      "[[ 0  1  2  3]\n",
      " [ 4  5  6  7]\n",
      " [ 8  9 10 11]]\n",
      "2d Array after tanspose:\n",
      "[[ 0  4  8]\n",
      " [ 1  5  9]\n",
      " [ 2  6 10]\n",
      " [ 3  7 11]]\n",
      "[[ 0  4  8]\n",
      " [ 1  5  9]\n",
      " [ 2  6 10]\n",
      " [ 3  7 11]]\n",
      "2d Array after ravel:\n",
      "[ 0  1  2  3  4  5  6  7  8  9 10 11]\n",
      "3d Array after ravel:\n",
      "[ 0  1  2  3  4  5  6  7  8  9 10 11 12 13 14 15 16 17 18 19 20 21 22 23\n",
      " 24 25 26 27 28 29 30 31 32 33 34 35]\n"
     ]
    }
   ],
   "source": [
    "import numpy as np\n",
    "\n",
    "arr1=np.arange(12).reshape(3,4)\n",
    "print(arr1)\n",
    "\n",
    "# Transpose- convert row value into column value.\n",
    "print(\"2d Array after tanspose:\")\n",
    "print(np.transpose(arr1))\n",
    "print(arr1.T)                                # Both methods are same.\n",
    "\n",
    "# Ravel- convert multi-dimensional array into single-dimensional array.\n",
    "print(\"2d Array after ravel:\")\n",
    "print(arr1.ravel())\n",
    "\n",
    "# 3d-array\n",
    "arr2=np.arange(36).reshape(4,3,3)\n",
    "\n",
    "print(\"3d Array after ravel:\")\n",
    "print(arr2.ravel())"
   ]
  },
  {
   "cell_type": "markdown",
   "metadata": {},
   "source": [
    "# Stacking \n",
    "           It used to joint any 2 numpy arrays.\n",
    "           There are two ways to adding an numpy array-\n",
    "           1) Horizantally\n",
    "           2) Vertically\n",
    "\n",
    "Note- Both array row & column value will be same. if it is not then it will give an error."
   ]
  },
  {
   "cell_type": "code",
   "execution_count": 53,
   "metadata": {},
   "outputs": [
    {
     "name": "stdout",
     "output_type": "stream",
     "text": [
      "[[ 0  1  2  3]\n",
      " [ 4  5  6  7]\n",
      " [ 8  9 10 11]]\n",
      "[[12 13 14 15]\n",
      " [16 17 18 19]\n",
      " [20 21 22 23]]\n",
      "Horizantally adding two arrays:\n",
      " [[ 0  1  2  3 12 13 14 15]\n",
      " [ 4  5  6  7 16 17 18 19]\n",
      " [ 8  9 10 11 20 21 22 23]]\n",
      "___________________________________________________\n",
      "Vertically adding two arrays:\n",
      " [[ 0  1  2  3]\n",
      " [ 4  5  6  7]\n",
      " [ 8  9 10 11]\n",
      " [12 13 14 15]\n",
      " [16 17 18 19]\n",
      " [20 21 22 23]]\n"
     ]
    }
   ],
   "source": [
    "arr1=np.arange(12).reshape(3,4)\n",
    "print(arr1)\n",
    "arr2=np.arange(12,24).reshape(3,4)\n",
    "print(arr2)\n",
    "\n",
    "#np.hstack((arr1,arr2))- passing tuple as an argument\n",
    "print(\"Horizantally adding two arrays:\\n\",np.hstack((arr1,arr2)))   \n",
    "print(\"___________________________________________________\")\n",
    "print(\"Vertically adding two arrays:\\n\",np.vstack((arr1,arr2)))\n",
    "\n"
   ]
  },
  {
   "cell_type": "markdown",
   "metadata": {},
   "source": [
    "# Spliting \n",
    "           It split any numpy array either horizantally or vertically.\n",
    "           syntax- hsplit(array_name,how many parts u want to split)\n",
    "                   vsplit(array_name,how many parts u want to split)"
   ]
  },
  {
   "cell_type": "code",
   "execution_count": 54,
   "metadata": {},
   "outputs": [
    {
     "name": "stdout",
     "output_type": "stream",
     "text": [
      "[[ 0  1  2  3]\n",
      " [ 4  5  6  7]\n",
      " [ 8  9 10 11]]\n",
      "Spliting numpy array horizantally:\n",
      "[array([[0, 1],\n",
      "       [4, 5],\n",
      "       [8, 9]]), array([[ 2,  3],\n",
      "       [ 6,  7],\n",
      "       [10, 11]])]\n",
      "---------------------------------\n",
      "Spliting numpy array vertically:\n",
      "[array([[0, 1, 2, 3]]), array([[4, 5, 6, 7]]), array([[ 8,  9, 10, 11]])]\n"
     ]
    }
   ],
   "source": [
    "arr=np.arange(12).reshape(3,4)\n",
    "print(arr)\n",
    "\n",
    "print(\"Spliting numpy array horizantally:\")\n",
    "print(np.hsplit(arr,2))\n",
    "\n",
    "print(\"---------------------------------\")\n",
    "print(\"Spliting numpy array vertically:\")\n",
    "print(np.vsplit(arr,3))\n"
   ]
  }
 ],
 "metadata": {
  "kernelspec": {
   "display_name": "Python 3",
   "language": "python",
   "name": "python3"
  },
  "language_info": {
   "codemirror_mode": {
    "name": "ipython",
    "version": 3
   },
   "file_extension": ".py",
   "mimetype": "text/x-python",
   "name": "python",
   "nbconvert_exporter": "python",
   "pygments_lexer": "ipython3",
   "version": "3.10.4"
  },
  "orig_nbformat": 4
 },
 "nbformat": 4,
 "nbformat_minor": 2
}
